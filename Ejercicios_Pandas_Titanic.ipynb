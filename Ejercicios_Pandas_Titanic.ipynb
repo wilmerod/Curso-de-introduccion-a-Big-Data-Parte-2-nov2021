{
  "nbformat": 4,
  "nbformat_minor": 0,
  "metadata": {
    "kernelspec": {
      "display_name": "Python 3",
      "language": "python",
      "name": "python3"
    },
    "language_info": {
      "codemirror_mode": {
        "name": "ipython",
        "version": 3
      },
      "file_extension": ".py",
      "mimetype": "text/x-python",
      "name": "python",
      "nbconvert_exporter": "python",
      "pygments_lexer": "ipython3",
      "version": "3.7.6-final"
    },
    "colab": {
      "name": "Ejercicios_Pandas_Titanic.ipynb",
      "provenance": []
    }
  },
  "cells": [
    {
      "cell_type": "markdown",
      "metadata": {
        "id": "gxkJQdN0xwrc"
      },
      "source": [
        "El fichero train.csv contiene información sobre los pasajeros del Titanic. \n",
        "\n",
        "Descargue el fichero train.csv en su ordenador desde\n",
        "https://www.kaggle.com/c/titanic/data?select=train.csv\n",
        "\n",
        "Suba el fichero train.csv a la carpeta sample_data de Google Colab\n",
        "\n"
      ]
    },
    {
      "cell_type": "markdown",
      "metadata": {
        "id": "6zmAfFTQeC5F"
      },
      "source": [
        "1. Generar un DataFrame con los datos del fichero."
      ]
    },
    {
      "cell_type": "code",
      "metadata": {
        "id": "uZLPJCFdxwrh"
      },
      "source": [
        "import pandas as pd\n",
        "\n",
        "# Generar un DataFrame con los datos del fichero.\n",
        "titanic = pd.read_csv('sample_data/train.csv', index_col=0)\n",
        "\n",
        "print(titanic)"
      ],
      "execution_count": null,
      "outputs": []
    },
    {
      "cell_type": "markdown",
      "metadata": {
        "id": "ResIFXP6eJfE"
      },
      "source": [
        "2. Mostrar por pantalla las dimensiones del DataFrame y el número de datos que contiene"
      ]
    },
    {
      "cell_type": "markdown",
      "metadata": {
        "id": "Guy_8RLwEDi3"
      },
      "source": [
        "3. Mostrar los nombres de sus columnas y filas"
      ]
    },
    {
      "cell_type": "markdown",
      "metadata": {
        "id": "IrW08rrTERPp"
      },
      "source": [
        "4. Mostrar los tipos de datos del DataFrame\n",
        "\n"
      ]
    },
    {
      "cell_type": "markdown",
      "metadata": {
        "id": "LGToZo5bEbww"
      },
      "source": [
        "5. Mostrar las 10 primeras filas y las 10 últimas filas."
      ]
    },
    {
      "cell_type": "markdown",
      "metadata": {
        "id": "GEnDfKDveOtU"
      },
      "source": [
        "6. Mostrar por pantalla los datos del pasajero con identificador 148"
      ]
    },
    {
      "cell_type": "markdown",
      "metadata": {
        "id": "ACmSJOfEGRhs"
      },
      "source": [
        "7. Mostrar cuántos pasajeros viajaban en el Titanic"
      ]
    },
    {
      "cell_type": "markdown",
      "metadata": {
        "id": "kNZg9IOsHtL4"
      },
      "source": [
        "8. Mostrar cuántos pasajeros sobrevivieron al naufragio"
      ]
    },
    {
      "cell_type": "markdown",
      "metadata": {
        "id": "Qe2hIomZFfjQ"
      },
      "source": [
        "9. Mostrar la suma de las tarifas (columna Fare)"
      ]
    },
    {
      "cell_type": "markdown",
      "metadata": {
        "id": "VMmLr661FuUz"
      },
      "source": [
        "10. Mostrar la edad media de los pasajeros del Titanic"
      ]
    },
    {
      "cell_type": "markdown",
      "metadata": {
        "id": "ZeT2AYIqF5Xm"
      },
      "source": [
        "11. Mostrar la edad media de los pasajeros según su género"
      ]
    },
    {
      "cell_type": "markdown",
      "metadata": {
        "id": "DMiVTx4OIHs4"
      },
      "source": [
        "12. Mostrar las columnas de nombre y edad de los pasajeros"
      ]
    },
    {
      "cell_type": "markdown",
      "metadata": {
        "id": "TUI7q0eOJR2q"
      },
      "source": [
        "13. Mostrar los pasajeros mayores de 65 años"
      ]
    },
    {
      "cell_type": "markdown",
      "metadata": {
        "id": "-5UUR3eLeTu8"
      },
      "source": [
        "14. Mostrar por pantalla las filas pares del DataFrame."
      ]
    },
    {
      "cell_type": "markdown",
      "metadata": {
        "id": "-QJjzjrmecTM"
      },
      "source": [
        "15. Mostrar los nombres de las personas que iban en primera clase ordenadas alfabéticamente."
      ]
    },
    {
      "cell_type": "markdown",
      "metadata": {
        "id": "MIu_cMbPegKs"
      },
      "source": [
        "16. Mostrar por pantalla el porcentaje de personas que sobrevivieron y murieron"
      ]
    },
    {
      "cell_type": "markdown",
      "metadata": {
        "id": "pdYUqeckemiE"
      },
      "source": [
        "17. Mostrar por pantalla el porcentaje de personas que sobrevivieron en cada clase"
      ]
    },
    {
      "cell_type": "markdown",
      "metadata": {
        "id": "vNpscbXXer_M"
      },
      "source": [
        "18. Eliminar del DataFrame los pasajeros con edad desconocida."
      ]
    },
    {
      "cell_type": "markdown",
      "metadata": {
        "id": "VKBnJAUTezAV"
      },
      "source": [
        "19. Mostrar la edad media de las mujeres que viajaban en cada clase."
      ]
    },
    {
      "cell_type": "markdown",
      "metadata": {
        "id": "zo0TbpGAe2PE"
      },
      "source": [
        "20. Añadir una nueva columna booleana para ver si el pasajero era menor de edad o no."
      ]
    },
    {
      "cell_type": "markdown",
      "metadata": {
        "id": "PBO7_Wmie7gM"
      },
      "source": [
        "21. Mostrar el porcentaje de menores y mayores de edad que sobrevivieron en cada clase."
      ]
    },
    {
      "cell_type": "markdown",
      "metadata": {
        "id": "51Y8rIAQKWca"
      },
      "source": [
        "22. Añadir una columna con la longitud de caracteres del nombre del pasajero"
      ]
    }
  ]
}